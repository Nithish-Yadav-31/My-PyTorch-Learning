{
 "cells": [
  {
   "cell_type": "markdown",
   "id": "e6aec59c-bd50-41ff-b0e7-f68e025ea7b8",
   "metadata": {},
   "source": [
    "## Gradient Calculation with AutoGrad"
   ]
  },
  {
   "cell_type": "code",
   "execution_count": 1,
   "id": "be64670b-150d-42d8-ba8e-7f6d7c3f01e9",
   "metadata": {},
   "outputs": [],
   "source": [
    "## Can be used for calculating gradients, which are essential for model optimization"
   ]
  },
  {
   "cell_type": "code",
   "execution_count": 2,
   "id": "fe507920-75f5-413e-9bf1-a7c35f209e11",
   "metadata": {},
   "outputs": [],
   "source": [
    "import torch"
   ]
  },
  {
   "cell_type": "code",
   "execution_count": 3,
   "id": "ddbc4aa1-a759-462e-a826-1056e08c57f7",
   "metadata": {},
   "outputs": [
    {
     "data": {
      "text/plain": [
       "tensor([0.6718, 0.6923, 0.5786], requires_grad=True)"
      ]
     },
     "execution_count": 3,
     "metadata": {},
     "output_type": "execute_result"
    }
   ],
   "source": [
    "x = torch.rand(3, requires_grad=True)\n",
    "x"
   ]
  },
  {
   "cell_type": "code",
   "execution_count": 4,
   "id": "29b8078e-aeaf-4c5f-bf34-0f95a7a4e633",
   "metadata": {},
   "outputs": [
    {
     "data": {
      "text/plain": [
       "tensor([2.6718, 2.6923, 2.5786], grad_fn=<AddBackward0>)"
      ]
     },
     "execution_count": 4,
     "metadata": {},
     "output_type": "execute_result"
    }
   ],
   "source": [
    "y = x+2\n",
    "y"
   ]
  },
  {
   "cell_type": "code",
   "execution_count": 5,
   "id": "61731723-a55f-4c6f-ac7d-8dbd67a1cdb4",
   "metadata": {},
   "outputs": [
    {
     "data": {
      "text/plain": [
       "tensor([14.2766, 14.4965, 13.2979], grad_fn=<MulBackward0>)"
      ]
     },
     "execution_count": 5,
     "metadata": {},
     "output_type": "execute_result"
    }
   ],
   "source": [
    "z = y*y*2\n",
    "z"
   ]
  },
  {
   "cell_type": "code",
   "execution_count": 6,
   "id": "34fe494d-7ec6-4ae4-bc49-d05e21224210",
   "metadata": {},
   "outputs": [
    {
     "data": {
      "text/plain": [
       "tensor(14.0237, grad_fn=<MeanBackward0>)"
      ]
     },
     "execution_count": 6,
     "metadata": {},
     "output_type": "execute_result"
    }
   ],
   "source": [
    "z = z.mean()\n",
    "z"
   ]
  },
  {
   "cell_type": "code",
   "execution_count": 7,
   "id": "d51018c3-41e3-464a-8723-4df775b6d9c0",
   "metadata": {},
   "outputs": [
    {
     "name": "stdout",
     "output_type": "stream",
     "text": [
      "tensor([3.5624, 3.5897, 3.4381])\n"
     ]
    }
   ],
   "source": [
    "## Computing gradient \n",
    "z.backward()\n",
    "print(x.grad)"
   ]
  },
  {
   "cell_type": "code",
   "execution_count": null,
   "id": "872bc068-391a-494d-bada-2ab5661eb624",
   "metadata": {},
   "outputs": [],
   "source": []
  },
  {
   "cell_type": "code",
   "execution_count": 9,
   "id": "de2d2e38-9799-4e04-978d-389cd4e692fb",
   "metadata": {},
   "outputs": [],
   "source": [
    "## Preventing Gradient history"
   ]
  },
  {
   "cell_type": "code",
   "execution_count": null,
   "id": "3520fc1a-1c09-45bf-b578-1e5e7cf5ead6",
   "metadata": {},
   "outputs": [],
   "source": []
  },
  {
   "cell_type": "code",
   "execution_count": null,
   "id": "ecf0497e-e65b-4b42-a0af-294ac2932c12",
   "metadata": {},
   "outputs": [],
   "source": []
  }
 ],
 "metadata": {
  "kernelspec": {
   "display_name": "Python 3 (ipykernel)",
   "language": "python",
   "name": "python3"
  },
  "language_info": {
   "codemirror_mode": {
    "name": "ipython",
    "version": 3
   },
   "file_extension": ".py",
   "mimetype": "text/x-python",
   "name": "python",
   "nbconvert_exporter": "python",
   "pygments_lexer": "ipython3",
   "version": "3.11.5"
  }
 },
 "nbformat": 4,
 "nbformat_minor": 5
}
