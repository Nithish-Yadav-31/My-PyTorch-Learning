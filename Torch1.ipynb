{
 "cells": [
  {
   "cell_type": "markdown",
   "id": "d4006bf0-ece9-48db-b37a-91a6f44fe762",
   "metadata": {},
   "source": [
    "## Basic initialization using empty() method"
   ]
  },
  {
   "cell_type": "code",
   "execution_count": 1,
   "id": "4138dfe2-448e-4f79-8371-13b8751b8595",
   "metadata": {},
   "outputs": [
    {
     "name": "stdout",
     "output_type": "stream",
     "text": [
      "1-D vector tensor([-4.7349e-30,  1.7726e-42,  0.0000e+00])\n"
     ]
    }
   ],
   "source": [
    "import torch\n",
    "\n",
    "## 1-D vector\n",
    "x = torch.empty(3)\n",
    "print(\"1-D vector\",x)\n"
   ]
  },
  {
   "cell_type": "code",
   "execution_count": 2,
   "id": "e4af820b-3c32-4f94-ad7e-54533c18a00d",
   "metadata": {},
   "outputs": [
    {
     "name": "stdout",
     "output_type": "stream",
     "text": [
      "\n",
      " 2-D matrix tensor([[0., 0., 0.],\n",
      "        [0., 0., 0.]])\n"
     ]
    }
   ],
   "source": [
    "\n",
    "## 2-D matrix\n",
    "x1 = torch.empty(2,3)\n",
    "print(\"\\n 2-D matrix\",x1)"
   ]
  },
  {
   "cell_type": "code",
   "execution_count": 3,
   "id": "dc4659aa-6ee4-40df-90ed-980bbd82bc40",
   "metadata": {},
   "outputs": [
    {
     "name": "stdout",
     "output_type": "stream",
     "text": [
      "\n",
      " 3-D Matrix tensor([[[0., 0., 0.],\n",
      "         [0., 0., 0.]],\n",
      "\n",
      "        [[0., 0., 0.],\n",
      "         [0., 0., 0.]]])\n"
     ]
    }
   ],
   "source": [
    "\n",
    "## 3-D matrix\n",
    "x2 = torch.empty(2,2,3)\n",
    "print(\"\\n 3-D Matrix\",x2)"
   ]
  },
  {
   "cell_type": "code",
   "execution_count": 4,
   "id": "9ea62909-c7bf-4be5-855f-e2e446582e6b",
   "metadata": {},
   "outputs": [
    {
     "name": "stdout",
     "output_type": "stream",
     "text": [
      "tensor([[[[-4.8565e-30,  1.7726e-42,  0.0000e+00],\n",
      "          [ 0.0000e+00,  0.0000e+00,  0.0000e+00],\n",
      "          [ 0.0000e+00,  0.0000e+00,  0.0000e+00]],\n",
      "\n",
      "         [[ 0.0000e+00,  0.0000e+00,  0.0000e+00],\n",
      "          [ 0.0000e+00,  0.0000e+00,  0.0000e+00],\n",
      "          [ 0.0000e+00,  0.0000e+00,  0.0000e+00]]],\n",
      "\n",
      "\n",
      "        [[[ 0.0000e+00,  0.0000e+00,  0.0000e+00],\n",
      "          [ 0.0000e+00,  0.0000e+00,  0.0000e+00],\n",
      "          [ 0.0000e+00,  0.0000e+00,  0.0000e+00]],\n",
      "\n",
      "         [[ 0.0000e+00,  0.0000e+00,  0.0000e+00],\n",
      "          [ 0.0000e+00,  0.0000e+00,  0.0000e+00],\n",
      "          [ 0.0000e+00,  0.0000e+00,  0.0000e+00]]]])\n"
     ]
    }
   ],
   "source": [
    "\n",
    "## 4-D matrix\n",
    "x3 = torch.empty(2,2,3,3)\n",
    "print(x3)"
   ]
  },
  {
   "cell_type": "markdown",
   "id": "509773e4-822f-4439-abf7-04af0c6496fb",
   "metadata": {},
   "source": [
    "## Other methods of initialization"
   ]
  },
  {
   "cell_type": "code",
   "execution_count": 5,
   "id": "a5aa32f9-2cbd-475f-90b4-fd07d1e0b9c6",
   "metadata": {},
   "outputs": [
    {
     "data": {
      "text/plain": [
       "tensor([[0.9309, 0.5623, 0.5856, 0.3668],\n",
       "        [0.3152, 0.6134, 0.7603, 0.8309]])"
      ]
     },
     "execution_count": 5,
     "metadata": {},
     "output_type": "execute_result"
    }
   ],
   "source": [
    "y = torch.rand(2,4)\n",
    "y"
   ]
  },
  {
   "cell_type": "code",
   "execution_count": 6,
   "id": "c3d8d405-a1fb-4e00-9650-68308e4bbc24",
   "metadata": {},
   "outputs": [
    {
     "data": {
      "text/plain": [
       "tensor([[[1., 1., 1., 1.],\n",
       "         [1., 1., 1., 1.],\n",
       "         [1., 1., 1., 1.]],\n",
       "\n",
       "        [[1., 1., 1., 1.],\n",
       "         [1., 1., 1., 1.],\n",
       "         [1., 1., 1., 1.]],\n",
       "\n",
       "        [[1., 1., 1., 1.],\n",
       "         [1., 1., 1., 1.],\n",
       "         [1., 1., 1., 1.]]])"
      ]
     },
     "execution_count": 6,
     "metadata": {},
     "output_type": "execute_result"
    }
   ],
   "source": [
    "y1 = torch.ones(3,3,4)\n",
    "y1"
   ]
  },
  {
   "cell_type": "code",
   "execution_count": 7,
   "id": "ad54b09d-ce84-4145-a641-51acb8d06031",
   "metadata": {},
   "outputs": [
    {
     "data": {
      "text/plain": [
       "tensor([[0., 0., 0., 0., 0.],\n",
       "        [0., 0., 0., 0., 0.]])"
      ]
     },
     "execution_count": 7,
     "metadata": {},
     "output_type": "execute_result"
    }
   ],
   "source": [
    "y2 = torch.zeros(2,5)\n",
    "y2"
   ]
  },
  {
   "cell_type": "code",
   "execution_count": 8,
   "id": "eafa21e7-f0ed-48f3-8063-e59d6d4b9983",
   "metadata": {},
   "outputs": [
    {
     "data": {
      "text/plain": [
       "tensor([[1, 1, 1, 1],\n",
       "        [1, 1, 1, 1],\n",
       "        [1, 1, 1, 1]])"
      ]
     },
     "execution_count": 8,
     "metadata": {},
     "output_type": "execute_result"
    }
   ],
   "source": [
    "## Initialization with a different data type\n",
    "\n",
    "y3 = torch.ones(3,4, dtype=int)\n",
    "y3"
   ]
  },
  {
   "cell_type": "code",
   "execution_count": 9,
   "id": "c2c7bce1-b13b-4262-b630-d20fb1603158",
   "metadata": {},
   "outputs": [
    {
     "data": {
      "text/plain": [
       "tensor([[1., 1., 1., 1.],\n",
       "        [1., 1., 1., 1.],\n",
       "        [1., 1., 1., 1.]])"
      ]
     },
     "execution_count": 9,
     "metadata": {},
     "output_type": "execute_result"
    }
   ],
   "source": [
    "## Initialization with a different data type\n",
    "\n",
    "y4 = torch.ones(3,4, dtype=torch.float)\n",
    "y4"
   ]
  },
  {
   "cell_type": "code",
   "execution_count": 10,
   "id": "82bdfb44-3390-43e3-8a3a-b2015aedec35",
   "metadata": {},
   "outputs": [
    {
     "data": {
      "text/plain": [
       "tensor([[1., 1., 1., 1.],\n",
       "        [1., 1., 1., 1.],\n",
       "        [1., 1., 1., 1.]], dtype=torch.float64)"
      ]
     },
     "execution_count": 10,
     "metadata": {},
     "output_type": "execute_result"
    }
   ],
   "source": [
    "## Initialization with a different data type\n",
    "\n",
    "y5 = torch.ones(3,4, dtype=torch.double)\n",
    "y5"
   ]
  },
  {
   "cell_type": "markdown",
   "id": "cedb174a-7f8b-4820-8f1c-f551666e4af2",
   "metadata": {},
   "source": [
    "## Printing size of tensors"
   ]
  },
  {
   "cell_type": "code",
   "execution_count": 11,
   "id": "d33fb339-1ee9-4500-9350-65a0fa5d4fb2",
   "metadata": {},
   "outputs": [
    {
     "name": "stdout",
     "output_type": "stream",
     "text": [
      "torch.Size([3, 3, 4])\n"
     ]
    }
   ],
   "source": [
    "## Printing Size of tensor\n",
    "\n",
    "print(y1.size())"
   ]
  },
  {
   "cell_type": "code",
   "execution_count": 12,
   "id": "3fa8fb96-302b-4e4a-853e-bf300baa9255",
   "metadata": {},
   "outputs": [
    {
     "name": "stdout",
     "output_type": "stream",
     "text": [
      "torch.Size([2, 2, 3, 3])\n"
     ]
    }
   ],
   "source": [
    "## Printing Size of tensor\n",
    "\n",
    "print(x3.size())"
   ]
  },
  {
   "cell_type": "markdown",
   "id": "c64cf599-99da-409d-97db-cd996a862e24",
   "metadata": {},
   "source": [
    "## Conversion using tensor() method"
   ]
  },
  {
   "cell_type": "code",
   "execution_count": 13,
   "id": "a8d43a2c-9c2e-4fd5-9cad-843f8f49f1bb",
   "metadata": {},
   "outputs": [
    {
     "data": {
      "text/plain": [
       "tensor([1, 7, 3, 6])"
      ]
     },
     "execution_count": 13,
     "metadata": {},
     "output_type": "execute_result"
    }
   ],
   "source": [
    "## Converting a list to a tensor\n",
    "n = torch.tensor([1,7,3,6])\n",
    "n"
   ]
  },
  {
   "cell_type": "markdown",
   "id": "736fe55f-ee4c-4735-8991-3908b9d5c134",
   "metadata": {},
   "source": [
    "## Arithmetic Operations"
   ]
  },
  {
   "cell_type": "code",
   "execution_count": 14,
   "id": "d0789b63-fd95-4810-bf28-b3c7aab96573",
   "metadata": {},
   "outputs": [],
   "source": [
    "n1 = torch.rand(3,3)\n",
    "n2 = torch.rand(3,3)"
   ]
  },
  {
   "cell_type": "code",
   "execution_count": 15,
   "id": "d5a786a7-0028-4a2f-b989-206cef0f6f50",
   "metadata": {},
   "outputs": [
    {
     "name": "stdout",
     "output_type": "stream",
     "text": [
      "tensor([[1.0384, 0.6252, 1.6387],\n",
      "        [1.2425, 1.7163, 0.9605],\n",
      "        [1.6831, 1.6358, 0.8109]])\n",
      "tensor([[1.0384, 0.6252, 1.6387],\n",
      "        [1.2425, 1.7163, 0.9605],\n",
      "        [1.6831, 1.6358, 0.8109]])\n",
      "tensor([[1.0384, 0.6252, 1.6387],\n",
      "        [1.2425, 1.7163, 0.9605],\n",
      "        [1.6831, 1.6358, 0.8109]])\n"
     ]
    }
   ],
   "source": [
    "## Addition \n",
    "print(n1 + n2)\n",
    "print(torch.add(n1,n2))\n",
    "\n",
    "## ELement-Wise addition\n",
    "print(n1.add_(n2))"
   ]
  },
  {
   "cell_type": "code",
   "execution_count": 16,
   "id": "3b3b2c65-a923-49ca-80c6-23568236e1b1",
   "metadata": {},
   "outputs": [
    {
     "name": "stdout",
     "output_type": "stream",
     "text": [
      "tensor([[0.8812, 0.4871, 0.9954],\n",
      "        [0.8711, 0.7174, 0.2716],\n",
      "        [0.9156, 0.7805, 0.2827]])\n",
      "tensor([[0.8812, 0.4871, 0.9954],\n",
      "        [0.8711, 0.7174, 0.2716],\n",
      "        [0.9156, 0.7805, 0.2827]])\n"
     ]
    }
   ],
   "source": [
    "## Subraction\n",
    "print(n1 - n2)\n",
    "print(torch.sub(n1, n2))"
   ]
  },
  {
   "cell_type": "code",
   "execution_count": 17,
   "id": "e6fb4990-ee12-4889-86c7-c91c6520e488",
   "metadata": {},
   "outputs": [
    {
     "name": "stdout",
     "output_type": "stream",
     "text": [
      "tensor([[0.1633, 0.0864, 1.0541],\n",
      "        [0.4616, 1.7144, 0.6616],\n",
      "        [1.2917, 1.3989, 0.4284]])\n",
      "tensor([[0.1633, 0.0864, 1.0541],\n",
      "        [0.4616, 1.7144, 0.6616],\n",
      "        [1.2917, 1.3989, 0.4284]])\n"
     ]
    }
   ],
   "source": [
    "## Multiplication\n",
    "\n",
    "print(n1 * n2)\n",
    "print(torch.mul(n1, n2))"
   ]
  },
  {
   "cell_type": "code",
   "execution_count": 18,
   "id": "9133e756-2d6d-47d4-878d-902b9c7169fe",
   "metadata": {},
   "outputs": [
    {
     "name": "stdout",
     "output_type": "stream",
     "text": [
      "tensor([[6.6055, 4.5250, 2.5475],\n",
      "        [3.3449, 1.7181, 1.3943],\n",
      "        [2.1931, 1.9127, 1.5351]])\n",
      "tensor([[6.6055, 4.5250, 2.5475],\n",
      "        [3.3449, 1.7181, 1.3943],\n",
      "        [2.1931, 1.9127, 1.5351]])\n"
     ]
    }
   ],
   "source": [
    "## Division\n",
    "\n",
    "print(n1 / n2)\n",
    "print(torch.div(n1, n2))"
   ]
  },
  {
   "cell_type": "markdown",
   "id": "48b31475-ce90-4df4-9ce6-d61acfe0c8bc",
   "metadata": {},
   "source": [
    "## Indexing Tensors"
   ]
  },
  {
   "cell_type": "code",
   "execution_count": 19,
   "id": "7474e711-33ff-4afd-9c61-77c0b1803a38",
   "metadata": {},
   "outputs": [
    {
     "name": "stdout",
     "output_type": "stream",
     "text": [
      "tensor([[1.0384, 0.6252, 1.6387],\n",
      "        [1.2425, 1.7163, 0.9605],\n",
      "        [1.6831, 1.6358, 0.8109]]) torch.Size([3, 3])\n",
      "\n",
      " first row tensor([1.0384, 0.6252, 1.6387])\n",
      "\n",
      " first column tensor([1.0384, 1.2425, 1.6831])\n"
     ]
    }
   ],
   "source": [
    "print(n1, n1.shape)\n",
    "print(\"\\n first row\",n1[0, :])\n",
    "print(\"\\n first column\",n1[:, 0])"
   ]
  },
  {
   "cell_type": "markdown",
   "id": "8c42f282-99fa-4a5b-9f67-0284cbfa82c7",
   "metadata": {},
   "source": [
    "## View function to display the tensor"
   ]
  },
  {
   "cell_type": "code",
   "execution_count": 25,
   "id": "60834f96-e534-4659-ab40-c96f44e090e7",
   "metadata": {},
   "outputs": [
    {
     "data": {
      "text/plain": [
       "tensor([[1.0384, 0.6252, 1.6387],\n",
       "        [1.2425, 1.7163, 0.9605],\n",
       "        [1.6831, 1.6358, 0.8109]])"
      ]
     },
     "execution_count": 25,
     "metadata": {},
     "output_type": "execute_result"
    }
   ],
   "source": [
    "n1.view(-1, 3)"
   ]
  },
  {
   "cell_type": "code",
   "execution_count": 27,
   "id": "476d12f6-f2eb-4e4d-b173-7351b5bcbe72",
   "metadata": {},
   "outputs": [
    {
     "data": {
      "text/plain": [
       "tensor([[1.0384],\n",
       "        [0.6252],\n",
       "        [1.6387],\n",
       "        [1.2425],\n",
       "        [1.7163],\n",
       "        [0.9605],\n",
       "        [1.6831],\n",
       "        [1.6358],\n",
       "        [0.8109]])"
      ]
     },
     "execution_count": 27,
     "metadata": {},
     "output_type": "execute_result"
    }
   ],
   "source": [
    "n1.view(-1, 1)"
   ]
  },
  {
   "cell_type": "code",
   "execution_count": 28,
   "id": "18031726-bd4a-4c6b-ad87-cd48bb2e5a33",
   "metadata": {},
   "outputs": [
    {
     "data": {
      "text/plain": [
       "tensor([[0.1572, 0.1382, 0.6432, 0.3715, 0.9989, 0.6889, 0.7674, 0.8552, 0.5283]])"
      ]
     },
     "execution_count": 28,
     "metadata": {},
     "output_type": "execute_result"
    }
   ],
   "source": [
    "n2.view(-1, 9)"
   ]
  },
  {
   "cell_type": "code",
   "execution_count": null,
   "id": "f6cd0616-68ca-41d4-aec3-fad51e6de687",
   "metadata": {},
   "outputs": [],
   "source": []
  },
  {
   "cell_type": "code",
   "execution_count": null,
   "id": "4a8ab999-9742-49b7-98e2-b8c107f86803",
   "metadata": {},
   "outputs": [],
   "source": []
  },
  {
   "cell_type": "code",
   "execution_count": 29,
   "id": "5f114495-1de5-4537-a850-ea2dcbc5e064",
   "metadata": {},
   "outputs": [],
   "source": [
    "import numpy\n",
    "import torch"
   ]
  },
  {
   "cell_type": "code",
   "execution_count": 31,
   "id": "d40403d3-c647-4182-add2-1123228c6f41",
   "metadata": {},
   "outputs": [
    {
     "data": {
      "text/plain": [
       "tensor([1., 1., 1., 1., 1.])"
      ]
     },
     "execution_count": 31,
     "metadata": {},
     "output_type": "execute_result"
    }
   ],
   "source": [
    "## Creating a new tensor\n",
    "a = torch.ones(5)\n",
    "a"
   ]
  },
  {
   "cell_type": "code",
   "execution_count": 35,
   "id": "1370e719-d0f0-42fa-9f3c-08a941146ed4",
   "metadata": {},
   "outputs": [
    {
     "data": {
      "text/plain": [
       "array([1., 1., 1., 1., 1.], dtype=float32)"
      ]
     },
     "execution_count": 35,
     "metadata": {},
     "output_type": "execute_result"
    }
   ],
   "source": [
    "## Creating a new numpy array\n",
    "b = a.numpy()\n",
    "b"
   ]
  },
  {
   "cell_type": "code",
   "execution_count": 36,
   "id": "b9009398-61a1-4509-ad3a-db24c4cecefc",
   "metadata": {},
   "outputs": [
    {
     "data": {
      "text/plain": [
       "tensor([2., 2., 2., 2., 2.])"
      ]
     },
     "execution_count": 36,
     "metadata": {},
     "output_type": "execute_result"
    }
   ],
   "source": [
    "## Adding one to all elements of tensor \n",
    "a.add(1)"
   ]
  },
  {
   "cell_type": "code",
   "execution_count": 38,
   "id": "f6e3744a-c1ae-47c8-8473-646de1cd8845",
   "metadata": {},
   "outputs": [
    {
     "name": "stdout",
     "output_type": "stream",
     "text": [
      "[1. 1. 1. 1. 1.]\n"
     ]
    }
   ],
   "source": [
    "## printing numpy array after addition operation to tensor\n",
    "print(b)\n",
    "\n",
    "## Refer the following markdown"
   ]
  },
  {
   "cell_type": "markdown",
   "id": "5cc66aaf-12c6-4d78-8fa9-8d8c0fc50f55",
   "metadata": {},
   "source": [
    "If the add() function has an effect on the numpy array, then they both might be assigned to the same memory location which will make the changes to both the arrays."
   ]
  },
  {
   "cell_type": "code",
   "execution_count": null,
   "id": "01ffce9c-1f24-4b30-a4f2-dd638c7c07a3",
   "metadata": {},
   "outputs": [],
   "source": []
  },
  {
   "cell_type": "code",
   "execution_count": 39,
   "id": "16d8c4f9-ce1f-4c54-82d0-6adda7da6a35",
   "metadata": {},
   "outputs": [],
   "source": [
    "## Moving the data to the GPU then performing the operations\n",
    "if torch.cuda.is_available():\n",
    "    device = torch.device(\"cuda\")\n",
    "    x = torch.ones(5, device = device)\n",
    "    y = torch.ones(5)\n",
    "    y = y.to(device)\n",
    "    z = x+y"
   ]
  },
  {
   "cell_type": "code",
   "execution_count": 40,
   "id": "1adc6336-e857-448f-b40a-f78971e13cf1",
   "metadata": {},
   "outputs": [
    {
     "ename": "TypeError",
     "evalue": "can't convert cuda:0 device type tensor to numpy. Use Tensor.cpu() to copy the tensor to host memory first.",
     "output_type": "error",
     "traceback": [
      "\u001b[1;31m---------------------------------------------------------------------------\u001b[0m",
      "\u001b[1;31mTypeError\u001b[0m                                 Traceback (most recent call last)",
      "Cell \u001b[1;32mIn[40], line 1\u001b[0m\n\u001b[1;32m----> 1\u001b[0m \u001b[43mz\u001b[49m\u001b[38;5;241;43m.\u001b[39;49m\u001b[43mnumpy\u001b[49m\u001b[43m(\u001b[49m\u001b[43m)\u001b[49m\n",
      "\u001b[1;31mTypeError\u001b[0m: can't convert cuda:0 device type tensor to numpy. Use Tensor.cpu() to copy the tensor to host memory first."
     ]
    }
   ],
   "source": [
    "## Numpy can only handle tensors on CPU which causes the errror.\n",
    "z.numpy()"
   ]
  },
  {
   "cell_type": "code",
   "execution_count": 41,
   "id": "21b48afd-928b-431c-8836-f31006c87710",
   "metadata": {},
   "outputs": [],
   "source": [
    "## Moving tensor back to CPU from GPU\n",
    "z = z.to(\"cpu\")"
   ]
  },
  {
   "cell_type": "code",
   "execution_count": 42,
   "id": "7409e706-b8c1-4cc0-a272-ef7af6000406",
   "metadata": {},
   "outputs": [
    {
     "data": {
      "text/plain": [
       "array([2., 2., 2., 2., 2.], dtype=float32)"
      ]
     },
     "execution_count": 42,
     "metadata": {},
     "output_type": "execute_result"
    }
   ],
   "source": [
    "## After moving the CPU now the tensor gets accessible by the numpy\n",
    "z.numpy()"
   ]
  },
  {
   "cell_type": "code",
   "execution_count": null,
   "id": "4278a7da-d319-423f-bcc8-ba3e75409f99",
   "metadata": {},
   "outputs": [],
   "source": []
  },
  {
   "cell_type": "code",
   "execution_count": 44,
   "id": "e15efb21-081c-42d6-87ee-090a7076abfc",
   "metadata": {},
   "outputs": [],
   "source": [
    "## requires_grad -> tells pytorch that it will need to calculate the gradient to this tensor later in the optimization step\n",
    "x = torch.ones(5, requires_grad=True)"
   ]
  },
  {
   "cell_type": "code",
   "execution_count": 45,
   "id": "fd50efa7-e317-447e-9c8b-3ef849e4880b",
   "metadata": {},
   "outputs": [
    {
     "data": {
      "text/plain": [
       "tensor([1., 1., 1., 1., 1.], requires_grad=True)"
      ]
     },
     "execution_count": 45,
     "metadata": {},
     "output_type": "execute_result"
    }
   ],
   "source": [
    "## Whenever we need to optimize a variable, we have to specify this\n",
    "x"
   ]
  }
 ],
 "metadata": {
  "kernelspec": {
   "display_name": "Python 3 (ipykernel)",
   "language": "python",
   "name": "python3"
  },
  "language_info": {
   "codemirror_mode": {
    "name": "ipython",
    "version": 3
   },
   "file_extension": ".py",
   "mimetype": "text/x-python",
   "name": "python",
   "nbconvert_exporter": "python",
   "pygments_lexer": "ipython3",
   "version": "3.11.5"
  }
 },
 "nbformat": 4,
 "nbformat_minor": 5
}
